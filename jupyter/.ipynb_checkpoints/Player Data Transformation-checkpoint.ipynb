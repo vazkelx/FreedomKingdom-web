{
 "cells": [
  {
   "cell_type": "code",
   "execution_count": 177,
   "metadata": {},
   "outputs": [],
   "source": [
    "# IMPORTS\n",
    "import json\n",
    "import python_nbt.nbt as nbt\n",
    "import os\n"
   ]
  },
  {
   "cell_type": "code",
   "execution_count": 206,
   "metadata": {},
   "outputs": [],
   "source": [
    "\n",
    "# root folder\n",
    "serverDirectory = 'C:/Users/adria/Downloads/all/'\n",
    "outDirectory = 'C:/Users/adria/Documents/GitHub/FreedomKingdom-web/FreedomKingdom-web/src/assets/data.json'\n",
    "\n",
    "# Load player names\n",
    "playerNames = {}\n",
    "with open(serverDirectory + \"usercache.json\") as f:\n",
    "    playerNames = json.load(f)\n",
    "\n",
    "players = {\"players\": []}\n",
    "\n",
    "# LOAD FILES\n",
    "for filename in os.listdir(serverDirectory + 'world/playerdata'):\n",
    "    if filename.endswith(\".dat\"):\n",
    "        file = nbt.read_from_nbt_file(serverDirectory + 'world/playerdata/' + filename)\n",
    "        jFile = file.json_obj(full_json=False)\n",
    "        \n",
    "        # Get player name\n",
    "        playerName = \"\"\n",
    "        for i in playerNames:\n",
    "            if(filename.split(\".\")[0] == i['uuid']):\n",
    "                playerName = i['name']\n",
    "                \n",
    "        # Get advancements\n",
    "        with open(serverDirectory + \"world/advancements/\" + filename.split(\".\")[0] + \".json\") as f:\n",
    "            playerAdvancements = json.load(f)\n",
    "           \n",
    "        # Get stats\n",
    "        with open(serverDirectory + \"world/stats/\" + filename.split(\".\")[0] + \".json\") as f:\n",
    "            playerStats = json.load(f)\n",
    "\n",
    "        \n",
    "        PlayerID = {\"ID\": filename.split(\".\")[0]}\n",
    "        PlayerName = {\"Name\": playerName}\n",
    "        PlayerAdvancements = {\"Advancements\": playerAdvancements}\n",
    "        PlayerStats = {\"Stats\": playerStats}\n",
    "        DeathTime = {\"DeathTime\": jFile['DeathTime']}\n",
    "        Health = {\"Health\":  jFile['Health']}\n",
    "        Dimension = {\"Dimension\": jFile['Dimension']}\n",
    "        XpLevel = {\"XpLevel\": jFile['XpLevel'] }\n",
    "        Pos = {\"Pos\": {\"X\": jFile['Pos'][0], \"Y\": jFile['Pos'][1] , \"Z\": jFile['Pos'][2]}}\n",
    "        foodLevel = {\"foodLevel\": jFile['foodLevel'] }\n",
    "        foodExhaustionLevel = {\"foodExhaustionLevel\": jFile['foodExhaustionLevel'] }\n",
    "        EnderItems = {\"EnderItems\": jFile['EnderItems']}\n",
    "        Inventory = {\"Inventory\": jFile[\"Inventory\"] }\n",
    "                                           \n",
    "\n",
    "\n",
    "        out = json.loads('{}')\n",
    "\n",
    "        out.update(PlayerID)\n",
    "        out.update(PlayerName)\n",
    "        out.update(PlayerAdvancements)\n",
    "        out.update(PlayerStats)\n",
    "        out.update(DeathTime)\n",
    "        out.update(Health)\n",
    "        out.update(Dimension)\n",
    "        out.update(XpLevel)\n",
    "        out.update(Pos)\n",
    "        out.update(foodLevel)\n",
    "        out.update(foodExhaustionLevel)\n",
    "        out.update(EnderItems)\n",
    "        out.update(Inventory)\n",
    "        \n",
    "       \n",
    "        \n",
    "        players['players'].append(out)\n",
    "\n",
    "        \n",
    "with open(outDirectory, 'w') as outfile:\n",
    "    json.dump(players, outfile)\n",
    "\n"
   ]
  },
  {
   "cell_type": "code",
   "execution_count": 24,
   "metadata": {},
   "outputs": [],
   "source": [
    "\n",
    "\n"
   ]
  },
  {
   "cell_type": "code",
   "execution_count": null,
   "metadata": {},
   "outputs": [],
   "source": []
  },
  {
   "cell_type": "code",
   "execution_count": null,
   "metadata": {},
   "outputs": [],
   "source": []
  },
  {
   "cell_type": "code",
   "execution_count": 167,
   "metadata": {},
   "outputs": [],
   "source": []
  },
  {
   "cell_type": "code",
   "execution_count": null,
   "metadata": {},
   "outputs": [],
   "source": []
  },
  {
   "cell_type": "code",
   "execution_count": null,
   "metadata": {},
   "outputs": [],
   "source": []
  }
 ],
 "metadata": {
  "kernelspec": {
   "display_name": "Python 3",
   "language": "python",
   "name": "python3"
  },
  "language_info": {
   "codemirror_mode": {
    "name": "ipython",
    "version": 3
   },
   "file_extension": ".py",
   "mimetype": "text/x-python",
   "name": "python",
   "nbconvert_exporter": "python",
   "pygments_lexer": "ipython3",
   "version": "3.7.6"
  }
 },
 "nbformat": 4,
 "nbformat_minor": 4
}
